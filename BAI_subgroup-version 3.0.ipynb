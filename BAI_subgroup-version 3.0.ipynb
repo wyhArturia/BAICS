{
 "cells": [
  {
   "cell_type": "markdown",
   "id": "992b752f",
   "metadata": {},
   "source": [
    "# Best arm identification with subgroups"
   ]
  },
  {
   "cell_type": "markdown",
   "id": "dae6eab5",
   "metadata": {},
   "source": [
    "## Simulation setting"
   ]
  },
  {
   "cell_type": "code",
   "execution_count": 1,
   "id": "a5bd613b",
   "metadata": {},
   "outputs": [],
   "source": [
    "import numpy as np\n",
    "\n",
    "## define simulation parameters\n",
    "K_ARMS = 3\n",
    "L_SUB = 3\n",
    "\n",
    "MEANS = np.array([[0.2,0.6,0.8],# means[k][l] for arm k and group l\n",
    "                  [0.4,0.4,0.3],\n",
    "                  [-0.2,1,1.5]])\n",
    "BETAS = np.array([0.2,0.3,0.5]) # weight of the three subgroups\n",
    "NOISE = 1\n",
    "\n",
    "STEPSIZE = 1\n",
    "\n",
    "## define the simulator\n",
    "def Simulate(k,l):\n",
    "    \"\"\" simulate an observation of arm k and subgroup l\"\"\"\n",
    "    return np.random.normal(loc=MEANS[k][l],scale = NOISE)\n",
    "\n",
    "def Simulate_rand(k):\n",
    "    \"\"\" simulate an observation for arm k, random subgroup\"\"\"\n",
    "    integers = np.arange(0,L_SUB)\n",
    "    sub_id = np.random.choice(integers, p=BETAS)\n",
    "    return sub_id,np.random.normal(loc=MEANS[k][sub_id],scale = NOISE)\n",
    "\n",
    "def Simulate_completely_rand():\n",
    "    \"\"\"simulate an observation of a random arm and random subgroup\"\"\"\n",
    "    arm_id = np.random.randint(0,K_ARMS)\n",
    "    integers = np.arange(0,L_SUB)\n",
    "    sub_id = np.random.choice(integers, p=BETAS)\n",
    "    return arm_id,sub_id,np.random.normal(loc=MEANS[arm_id][sub_id],scale = NOISE)"
   ]
  },
  {
   "cell_type": "markdown",
   "id": "4d42f6df",
   "metadata": {},
   "source": [
    "## Information of Arms"
   ]
  },
  {
   "cell_type": "code",
   "execution_count": 2,
   "id": "d7c542c2",
   "metadata": {},
   "outputs": [],
   "source": [
    "class ArmInfo:\n",
    "    def __init__(self, est_means, n_draws):\n",
    "        # est_means: the estimated mean of each subgroup, np array of dim L_SUB\n",
    "        # n_draws: the number of draws of each subgroup, np array of dim L_SUB\n",
    "        \n",
    "        ########## basic information\n",
    "        self.est_means = est_means # the estimated mean values of each subgroup\n",
    "        self.n_draws = n_draws # the number of draws of each subgroup\n",
    "        self.arm_val = np.dot(self.est_means,BETAS)# the weighted average across all L subgroups\n",
    "        \n",
    "        ########## for stopping rule calculation\n",
    "        self.stop_lams = self.est_means.copy() # the value of lambda for calculating the stopping rule\n",
    "        ##### indicator of smallest subgroup, to check for feasibility\n",
    "        self.min_subgroup = np.argmin(self.est_means)# the subgroup with minimum estimated mean\n",
    "        self.min_subval = self.est_means[self.min_subgroup]# the minimum value of subgroup estimation\n",
    "    \n",
    "    def updateEst(self, l_sub, new_obs):\n",
    "        \"\"\" each time we acquire a new observation for a subgroup. Information of the arm will be accordingly updated.\"\"\"\n",
    "        # l_sub: the subgroup that this new observation is assigned to \n",
    "        # new_obs: the new observation\n",
    "        ############# update the basic information\n",
    "        n = self.n_draws[l_sub]\n",
    "        self.est_means[l_sub]=(self.est_means[l_sub]*n+new_obs)/(n+1)\n",
    "        self.n_draws[l_sub]=n+1\n",
    "        self.arm_val = np.dot(self.est_means,BETAS)\n",
    "        \n",
    "        ############# update the indicator of smallest subgroup\n",
    "        self.min_subgroup = np.argmin(self.est_means)\n",
    "        self.min_subval = self.est_means[self.min_subgroup] \n",
    "        \n",
    "    def is_feasible(self):\n",
    "        \"\"\"\n",
    "        indicate the feasibility of arm according to the current estimation. \n",
    "        Note that this is just according to the current estimation, and not considering probability constraints\n",
    "        \"\"\"\n",
    "        if self.min_subval<0:\n",
    "            return False\n",
    "        else:\n",
    "            return True"
   ]
  },
  {
   "cell_type": "markdown",
   "id": "eb38473d",
   "metadata": {},
   "source": [
    "### The class for T-a-S strategy"
   ]
  },
  {
   "cell_type": "code",
   "execution_count": 3,
   "id": "d9999981",
   "metadata": {},
   "outputs": [],
   "source": [
    "class ArmTaS(ArmInfo):\n",
    "    def __init__(self, est_means, n_draws):\n",
    "        super().__init__(est_means, n_draws)\n",
    "        ############## for weight calculation and tracking strategy\n",
    "        self.weight = 1/K_ARMS\n",
    "        self.weightsum = self.weight*np.sum(self.n_draws)\n",
    "        self.score = self.weightsum\n",
    "        \n",
    "    def updateEst(self, l_sub, new_obs):\n",
    "        super().updateEst(l_sub, new_obs)\n",
    "        ############# for tracking strategy\n",
    "        self.score = self.score-1\n",
    "        \n",
    "    def updateWeight(self,new_weight):\n",
    "        \"\"\"record the new optimal weight\"\"\"\n",
    "        self.weight = new_weight\n",
    "        self.weightsum = self.weightsum + new_weight\n",
    "        self.score = self.score + new_weight"
   ]
  },
  {
   "cell_type": "markdown",
   "id": "7b7acc4b",
   "metadata": {},
   "source": [
    "### The class for T-a-SCS strategy"
   ]
  },
  {
   "cell_type": "code",
   "execution_count": 4,
   "id": "6eeb9f56",
   "metadata": {},
   "outputs": [],
   "source": [
    "class ArmTaSCS(ArmInfo):\n",
    "    def __init__(self, est_means, n_draws):\n",
    "        super().__init__(est_means, n_draws)\n",
    "        ############## for weight calculation and tracking strategy\n",
    "        self.weights = np.ones(L_SUB)/(K_ARMS*L_SUB)# initial w_kl \n",
    "        self.weightsums = self.weights*self.n_draws\n",
    "        self.scores = self.weightsums.copy()\n",
    "        self.lams = self.est_means.copy() # initial lambda_kl for calculating the optimal weights\n",
    "        \n",
    "    def updateEst(self, l_sub, new_obs):\n",
    "        super().updateEst(l_sub, new_obs)\n",
    "        ############# for tracking strategy\n",
    "        self.scores[l_sub] = self.scores[l_sub]-1\n",
    "        \n",
    "    def updateWeights(self, new_weights):\n",
    "        \"\"\"record the new optimal weights\"\"\"\n",
    "        self.weights = np.array(new_weights)\n",
    "        self.weightsums = self.weightsums + new_weights\n",
    "        self.scores = self.scores + new_weights"
   ]
  },
  {
   "cell_type": "markdown",
   "id": "c92de49b",
   "metadata": {},
   "source": [
    "## Calculating Alter Set $\\lambda$ and Weights ***"
   ]
  },
  {
   "cell_type": "markdown",
   "id": "2364e836",
   "metadata": {},
   "source": [
    "### Weight calculation for T-a-S"
   ]
  },
  {
   "cell_type": "markdown",
   "id": "ee3caafd",
   "metadata": {},
   "source": [
    "The traditional track and stop strategy does not consider information on the subgroup when calculating the optimal weight allocation. According to Kaufmann, in the Gaussian case, the optimal weight assignment to each arm can be calculated as follows:\n",
    "\n",
    "Denote the current arm with maximum quality as arm 1, and define \n",
    "\\begin{equation}\n",
    "g_k(y)=(1+y)I_{1/(1+y)}(\\mu_1,\\mu_k),\\quad x_k(y) = g_k^{-1}(y)\n",
    "\\end{equation} \n",
    "for $k\\in[K]$ and $k\\not=1$. Let $x_1=1$, where $\\mu_k$ is the `arm_val` of arm $k$. We have\n",
    "\\begin{equation}\n",
    "w^*_k=\\frac{x_k}{\\sum_{i\\in[K]}x_k}\n",
    "\\end{equation}\n",
    "\n",
    "Further according to Kaufmann, we can solve the values of $x_k$, $k\\in[K]$ and $k\\not=1$ by solving for a parameter $\\theta$, where\n",
    "\\begin{equation}\n",
    "\\sum_{k=2}^K x_k^2=1\\text{ and }\\frac{x_k}{1+x_k}=\\frac{\\theta}{(\\mu_1-\\mu_k)^2},\\text{ thus }\\sum_{k=2}^K\\frac{\\theta^2}{((\\mu_1-\\mu_k)^2-\\theta)^2}=1\n",
    "\\end{equation}\n",
    "we solve for the value of $\\theta$ for some $\\theta\\in(0,(\\mu_1-\\mu_2)^2)$, and plug in the previous equations to get the value of $x_k$ and $w^*_k$."
   ]
  },
  {
   "cell_type": "markdown",
   "id": "c15f7f8b",
   "metadata": {},
   "source": [
    "We can further choose to do a modification of weights, which is to create a $L^{\\infty}$ projection of $w^*$ onto $\\Sigma_K^\\varepsilon=\\left\\{(w_1,w_2,\\ldots,w_K)\\in(\\varepsilon,1):\\sum_{k=1}^Kw_k=1\\right\\}$, where $\\varepsilon_t=\\frac{1}{2}(K^2+t)^{-1/2}$."
   ]
  },
  {
   "cell_type": "code",
   "execution_count": 5,
   "id": "e590d200",
   "metadata": {},
   "outputs": [],
   "source": [
    "def projL_inf(weights, threshold):\n",
    "    \"\"\"do a L-infty projection of the weights onto the simplex of [weights>=threshold] while maintaining the sum to be 1\"\"\"\n",
    "    # weights: numpy array, can be of 1-dimensional K_ARMS(T-a-S) or 2-dimensional K_ARMS*L_SUB(T-a-SSC)\n",
    "    shape = weights.shape\n",
    "    weights = weights.reshape(-1)\n",
    "    L = weights.size\n",
    "    \n",
    "    sorted_indices = np.argsort(weights)# record the indices\n",
    "    sorted_weights = weights[sorted_indices]\n",
    "    \n",
    "    # modify the sorted weights to the projected version\n",
    "    new_weights = np.clip(sorted_weights,a_min = threshold,a_max = None)\n",
    "    increment = np.sum(new_weights-sorted_weights)\n",
    "    for i in range(L):\n",
    "        if(sorted_weights[i]>threshold):\n",
    "            average_inc = increment/(L-i)\n",
    "            if(sorted_weights[i]-average_inc<threshold):\n",
    "                increment = increment-(new_weights[i]-threshold)\n",
    "                new_weights[i]=threshold\n",
    "            else:\n",
    "                break\n",
    "    average_inc = increment/(L-i)\n",
    "    new_weights[i:L] = new_weights[i:L]-average_inc\n",
    "    \n",
    "    # back to the orginal order and shape\n",
    "    original_indices = np.argsort(sorted_indices)\n",
    "    new_weights = new_weights[original_indices]\n",
    "    new_weights = new_weights.reshape(shape)\n",
    "    return new_weights "
   ]
  },
  {
   "cell_type": "code",
   "execution_count": 6,
   "id": "48a3fb12",
   "metadata": {},
   "outputs": [],
   "source": [
    "from scipy.optimize import fsolve\n",
    "\n",
    "def getWeightTaS(arms, best_id, second_id, proj=False, threshold=0):\n",
    "    \"\"\"calculate the optimal weight assignment of the T-a-S strategy, given current estimated values of arm quality\"\"\"\n",
    "    # arms: a list with K_ARMS number of ArmTaS class instances\n",
    "    # best_id and second_id: the index of the best and second best arms in the list, in terms of arm quality\n",
    "    # proj: if true, do a L-infty projection onto the simplex with threshold epsilon\n",
    "    \n",
    "    M = (arms[best_id].arm_val-arms[second_id].arm_val)**2 # the upperbound of theta\n",
    "    \n",
    "    # solve for the value of theta\n",
    "    def eqTheta(x):\n",
    "        \"\"\"to solve theta for sum-1=0\"\"\"\n",
    "        s = 0\n",
    "        for i in range(K_ARMS):\n",
    "            if (i!=best_id):\n",
    "                temp = x**2 / ((arms[best_id].arm_val-arms[i].arm_val)**2-x)**2\n",
    "                s = s + temp\n",
    "        return s-1\n",
    "    \n",
    "    def objTheta(x):\n",
    "        \"\"\"to add the range restriction of solution value to the previous function\"\"\"\n",
    "        if x < 0 or x > M:  # out of range of acceptable solutions, give a penalty\n",
    "            return abs(x - M/2)**2 \n",
    "        else:\n",
    "            return eqTheta(x)\n",
    "        \n",
    "    theta = fsolve(objTheta, x0=M/2)\n",
    "    \n",
    "    # plug-in theta to get the value of optimal weights \n",
    "    s = 1 # sum of x from 1 to k\n",
    "    x_ks = np.zeros([K_ARMS]) # the values of x_k\n",
    "    x_ks[best_id]=1\n",
    "    for i in range(K_ARMS):\n",
    "        if(i!=best_id):\n",
    "            x_k = theta / ((arms[best_id].arm_val-arms[i].arm_val)**2-theta)\n",
    "            x_ks[i] = x_k\n",
    "            s = s+x_k\n",
    "    new_weights = x_ks/s\n",
    "    \n",
    "    # if proj==True, do a projection of the weights\n",
    "    if proj == True:\n",
    "        new_weights = projL_inf(new_weights, threshold)\n",
    "        \n",
    "    for i in range(K_ARMS):\n",
    "        arms[i].updateWeight(new_weights[i])"
   ]
  },
  {
   "cell_type": "markdown",
   "id": "ea2e9c64",
   "metadata": {},
   "source": [
    "### Weight calculation for T-a-SCS"
   ]
  },
  {
   "cell_type": "markdown",
   "id": "f66be7c4",
   "metadata": {},
   "source": [
    "Given the current estimation of mean values of each arm on each subgroup, we calculate the Alter set and the optimal weights assigned to each of the arms and subgroups. Note that we need to solve the optimal weights $w^*$ by\n",
    "\\begin{equation}\n",
    "    w^* = \\arg\\sup_{w\\in\\Sigma_k}\\inf_{\\lambda\\in\\text{Alt}(\\mu)}\\left(\\sum_{k=1}^K w_kd(\\mu_k,\\lambda_k)\\right)\n",
    "\\end{equation}\n",
    "For the Gaussian case, we have $d(x,y)=(x-y)^2/(2\\sigma^2)$, this gives\n",
    "\\begin{equation}\n",
    "    w^* = \\arg\\sup_{w\\in\\Sigma_k}\\inf_{\\lambda\\in\\text{Alt}(\\mu)}\\left(\\frac{1}{2\\sigma^2}\\sum_{k=1}^K\\sum_{l=1}^L w_{kl}(\\mu_{kl}-\\lambda_{kl})^2\\right)\n",
    "\\end{equation}\n",
    "To calculate and maximize the function of weights\n",
    "\\begin{equation}\n",
    "f(\\{w_{kl}\\}_{k\\in[K],~l\\in[L]})=\\inf_{\\lambda\\in\\text{Alt}(\\mu)}\\left(\\frac{1}{2\\sigma^2}\\sum_{k=1}^K\\sum_{l=1}^L w_{kl}(\\mu_{kl}-\\lambda_{kl})^2\\right),\n",
    "\\end{equation}\n",
    " we first discuss the following 2 situations:"
   ]
  },
  {
   "cell_type": "markdown",
   "id": "62be9f39",
   "metadata": {},
   "source": [
    "#### Given the estimation $\\hat{\\mathbf{\\mu}}$, we have no feasible arms\n",
    "\n",
    "In this case, we activate the arm \n",
    "\\begin{equation}\n",
    "a=\\arg\\min_{k\\in\\{1,2,\\ldots, K\\}}\\sum_{l\\in[L],~\\hat{\\mu}_{kl}~< ~0}w_{kl}\\hat{\\mu}_{kl}^2\n",
    "\\end{equation}\n",
    "and set $\\lambda_{al}=\\max\\{0,\\hat{\\mu}_{al}\\}$. \n",
    "\n",
    "Under the weight constraint $\\sum_{k\\in[K],~l\\in[L]}w_{kl}=1$, we directly have the optimal weight assignment strategy: denote the minimum subgroup mean of arm $k$ (over subgroups $l\\in[L]$) as $\\mu^*_k(<0)$, let $w_k(\\mu_k^*)^2$ be equal over all $k=1,2,\\ldots,K$, we get \n",
    "\\begin{equation}\n",
    "    w_k=\\frac{1}{(\\mu_k^*)^2}\\left(\\sum_{j=1}^K\\frac{1}{(\\mu_j^*)^2}\\right)^{-1},\n",
    "\\end{equation}\n",
    "assigned to the minimum subgroup of each arm $k$."
   ]
  },
  {
   "cell_type": "code",
   "execution_count": 7,
   "id": "33da4233",
   "metadata": {},
   "outputs": [],
   "source": [
    "def weights_case1(arms):\n",
    "    \"\"\"return the optimal weights for T-a-SCS when there is no feasible arm\"\"\"\n",
    "    # arms: list of classes \n",
    "    new_weights = np.zeros([K_ARMS,L_SUB])\n",
    "    s = 0\n",
    "    for i in range(K_ARMS):\n",
    "        s = s + 1/(arms[i].min_subval)**2\n",
    "    \n",
    "    for i in range(K_ARMS):\n",
    "        new_weights[i][arms[i].min_subgroup] = 1/(arms[i].min_subval**2) * (1/s)\n",
    "    \n",
    "    return new_weights"
   ]
  },
  {
   "cell_type": "markdown",
   "id": "d3a1ad62",
   "metadata": {},
   "source": [
    "#### There is already one feasible arm $k=1$. \n",
    "\n",
    "In this situation, for any set of given weights $\\{w_{kl}\\}_{k\\in[K],~l\\in[L]}$, we calculate the function $f(\\{w_{kl}\\}_{k\\in[K],~l\\in[L]})$. Note that the value of $f$ (i.e., the optimal choice of $\\lambda$ that minimizes the weighted sum corresponding to given weights) can be attained in exactly one of the following situations. "
   ]
  },
  {
   "cell_type": "markdown",
   "id": "b641c726",
   "metadata": {},
   "source": [
    "##### The first choice is to activate another arm $a$, which becomes feasible and beats arm $1$."
   ]
  },
  {
   "cell_type": "markdown",
   "id": "e5b68fab",
   "metadata": {},
   "source": [
    "If this case yields the most efficient choice of $\\lambda$ for the given weights $\\{w_{kl}\\}_{k\\in[K],~l\\in[L]}$, we have\n",
    "\\begin{equation}\n",
    "f_k(\\{w_{kl}\\}_{k\\in[K],~l\\in[L]})= \\frac{1}{2\\sigma^2}\\min_{\\lambda}\\sum_lw_{1l}(\\hat{\\mu}_{1l}-\\lambda_{1l})^2+\\sum_lw_{kl}(\\hat{\\mu}_{kl}-\\lambda_{kl})^2\\text{ s.t. }\\sum \\beta_l\\lambda_{kl}\\ge\\sum\\beta_l\\lambda_{1l},\\lambda_{kl}\\ge 0,\n",
    "\\end{equation}\n",
    "for arm $k$, and $f=\\min\\{f_2,f_3,\\ldots,f_K\\}$, $a=\\arg\\min_{k\\not=1,k\\in[K]}f_k$. "
   ]
  },
  {
   "cell_type": "markdown",
   "id": "5edbdc0e",
   "metadata": {},
   "source": [
    "###### We write a function that can be used not only to calculate and update the lambda values here, but also later in computing the stopping rule."
   ]
  },
  {
   "cell_type": "code",
   "execution_count": 8,
   "id": "5f6c7458",
   "metadata": {},
   "outputs": [],
   "source": [
    "import gurobipy as gp\n",
    "def f_k(means_1, means_k, weights_1, weights_k, start_1, start_k):\n",
    "    \"\"\"compute and return the values of f_k(corresponding to arm k) and lambda via quadratic programming\"\"\"\n",
    "    # means_1, means_k: the (estimated) values of mu_1 and mu_k, numpy array with L_SUB elements\n",
    "    # weights_1, weights_k: current value of weights, can be the empirical weights(n_draws) or the near-optimal assigned weights\n",
    "    ### we use the number 1 to denote the current best feasible arm\n",
    "    \n",
    "    model = gp.Model()\n",
    "    \n",
    "    # create decision variables\n",
    "    l_1 = model.addVars(L_SUB,lb=0,vtype=gp.GRB.CONTINUOUS)\n",
    "    l_k = model.addVars(L_SUB,lb=0,vtype=gp.GRB.CONTINUOUS)\n",
    "    \n",
    "    # set the objective function\n",
    "    obj_p1 = gp.quicksum(weights_1[i]*(l_1[i]-means_1[i])**2 for i in range(L_SUB))\n",
    "    obj_p2 = gp.quicksum(weights_k[i]*(l_k[i]-means_k[i])**2 for i in range(L_SUB))\n",
    "    model.setObjective(obj_p1+obj_p2,sense=gp.GRB.MINIMIZE)\n",
    "    \n",
    "    # add constraints\n",
    "    armVal_1 = gp.quicksum(l_1[i]*BETAS[i] for i in range(L_SUB))\n",
    "    armVal_k = gp.quicksum(l_k[i]*BETAS[i] for i in range(L_SUB))\n",
    "    model.addConstr(armVal_1<=armVal_k)\n",
    "    \n",
    "    # set the initial values\n",
    "    l_1.start = start_1\n",
    "    l_k.start = start_k\n",
    "    \n",
    "    # Optimize the model\n",
    "    model.setParam('OutputFlag', 0)\n",
    "    model.optimize()\n",
    "\n",
    "    # Get the solution and update to the arms\n",
    "    new_lams_1 = np.zeros([L_SUB])\n",
    "    new_lams_k = np.zeros([L_SUB])\n",
    "    for i in range(L_SUB):\n",
    "        new_lams_1[i] = l_1[i].x\n",
    "        new_lams_k[i] = l_k[i].x\n",
    "    \n",
    "    return model.objVal, new_lams_1, new_lams_k\n",
    "    "
   ]
  },
  {
   "cell_type": "markdown",
   "id": "0ea50fd3",
   "metadata": {},
   "source": [
    "##### The second choice is to make arm 1 infeasible"
   ]
  },
  {
   "cell_type": "markdown",
   "id": "56fb8845",
   "metadata": {},
   "source": [
    "If this case yields the most efficient choice of $\\lambda$ for the given weights $\\{w_{kl}\\}_{k\\in[K],~l\\in[L]}$, we have\n",
    "\\begin{equation}\n",
    "f(\\{w_{kl}\\}_{k\\in[K],~l\\in[L]})=\\frac{1}{2\\sigma^2}\\min_{l\\in[L]}w_{1l}\\hat{\\mu}_{1l}^2\n",
    "\\end{equation}"
   ]
  },
  {
   "cell_type": "code",
   "execution_count": 9,
   "id": "9922b714",
   "metadata": {},
   "outputs": [],
   "source": [
    "def Infeas_sub(means_1, weights_1):\n",
    "    \"\"\"find the index of the subgroup corresponding to the value of f_1 at current weights, return the index and corresponding value\"\"\"\n",
    "    temp = means_1**2 * weights_1\n",
    "    index = np.argmin(temp)\n",
    "    return temp[index], index"
   ]
  },
  {
   "cell_type": "markdown",
   "id": "02507d7d",
   "metadata": {},
   "source": [
    "###### Given the result of lambda, update weights using Frank-Wolfe-like algorithm"
   ]
  },
  {
   "cell_type": "code",
   "execution_count": 10,
   "id": "f117287b",
   "metadata": {},
   "outputs": [],
   "source": [
    "def weights_case2(arms, best_id):\n",
    "    \"\"\"calculate the values of f and have lambda updated corresponding to the current weights\"\"\"\n",
    "    \n",
    "    new_weights = np.zeros([K_ARMS,L_SUB])\n",
    "    subgradient = np.zeros([K_ARMS,L_SUB])\n",
    "    \n",
    "    # first calculate the value of f_1\n",
    "    ### we use min_val and min_id to record the index of the minimum function value among {f_1...f_k}\n",
    "    min_val, sub_1_id = Infeas_sub(arms[best_id].est_means, arms[best_id].weights)\n",
    "    min_id = best_id\n",
    "    \n",
    "    # next calculate the values of f_k w.r.t. current weights\n",
    "    for i in range(K_ARMS):\n",
    "        new_weights[i] = arms[i].weights\n",
    "        \n",
    "        if(i!=best_id):\n",
    "            means_1 = arms[best_id].est_means\n",
    "            means_k = arms[i].est_means\n",
    "            weights_1 = arms[best_id].weights\n",
    "            weights_k = arms[i].weights\n",
    "            start_1 = arms[best_id].lams\n",
    "            start_k = arms[i].lams\n",
    "            f_val, arm1_lam, arms[i].lams = f_k(means_1, means_k, weights_1, weights_k, start_1, start_k)\n",
    "    \n",
    "            if(f_val<min_val):\n",
    "                min_val = f_val\n",
    "                min_id = i\n",
    "                arms[best_id].lams = arm1_lam\n",
    "                           \n",
    "    # calculate the subgradient w.r.t. min_id\n",
    "    if (min_id != best_id):\n",
    "        subgradient[min_id] = (arms[min_id].lams - arms[min_id].est_means)**2/(2*NOISE**2)\n",
    "        subgradient[best_id] = (arms[best_id].lams - arms[best_id].est_means)**2/(2*NOISE**2)\n",
    "    else:\n",
    "        subgradient[min_id][sub_1_id] = arms[min_id].est_means[sub_1_id]**2/(2*NOISE**2)\n",
    "    \n",
    "    # update the weights via subgradient ascent\n",
    "    new_weights = new_weights + STEPSIZE*subgradient\n",
    "    \n",
    "    # modification and projection\n",
    "    ### first project the weights to the simplex of sum=1\n",
    "    disc = (np.sum(new_weights)-1)/(K_ARMS*L_SUB)\n",
    "    new_weights = new_weights-disc\n",
    "    ### next project to the nonnegative orthant while maintaining the sum\n",
    "    new_weights = projL_inf(new_weights, 0)\n",
    "    \n",
    "    return new_weights"
   ]
  },
  {
   "cell_type": "markdown",
   "id": "70d50c26",
   "metadata": {},
   "source": [
    "###### Summarizing the two cases, we get the following weight updating function for T-a-SCS"
   ]
  },
  {
   "cell_type": "code",
   "execution_count": 11,
   "id": "d52bcffc",
   "metadata": {},
   "outputs": [],
   "source": [
    "def findBestFeas(arms):\n",
    "    \"\"\"given current estimation, find the best feasible arm\"\"\"\n",
    "    best_val = -1\n",
    "    best_id = -1\n",
    "    for i in range(K_ARMS):\n",
    "        if(arms[i].is_feasible() and arms[i].arm_val>best_val):\n",
    "            best_val = arms[i].arm_val\n",
    "            best_id = i\n",
    "    return best_id   "
   ]
  },
  {
   "cell_type": "code",
   "execution_count": 12,
   "id": "eda549f6",
   "metadata": {},
   "outputs": [],
   "source": [
    "def getWeightsTaSCS(arms, proj=False, threshold=0):\n",
    "    \"\"\"calculate the optimal weight assignment of the T-a-SCS strategy, given current estimated values of arm quality\"\"\"\n",
    "    best_id = findBestFeas(arms)\n",
    "    if best_id == -1:\n",
    "        new_weights = weights_case1(arms)\n",
    "    else:\n",
    "        new_weights = weights_case2(arms,best_id)\n",
    "    \n",
    "    # if proj==True, do a projection of the weights\n",
    "    if proj == True:\n",
    "        new_weights = projL_inf(new_weights, threshold)\n",
    "        \n",
    "    for i in range(K_ARMS):\n",
    "        arms[i].updateWeights(new_weights[i])"
   ]
  },
  {
   "cell_type": "markdown",
   "id": "3e6bb11b",
   "metadata": {},
   "source": [
    "## Choosing the next arm to sample"
   ]
  },
  {
   "cell_type": "code",
   "execution_count": 13,
   "id": "27c865b4",
   "metadata": {},
   "outputs": [],
   "source": [
    "def C_tracking_TaS(arms):\n",
    "    \"\"\"find the arm with maximum score\"\"\"\n",
    "    arm_scores = np.zeros([K_ARMS])\n",
    "    for i in range(K_ARMS):\n",
    "        arm_scores[i]=arms[i].score\n",
    "            \n",
    "    max_score_id = np.argmax(arm_scores)\n",
    "    return max_score_id"
   ]
  },
  {
   "cell_type": "code",
   "execution_count": 14,
   "id": "346aa513",
   "metadata": {},
   "outputs": [],
   "source": [
    "def C_tracking_TaSCS(arms):\n",
    "    \"\"\"find the arm and subgroup with maximum score\"\"\"\n",
    "    arm_scores = np.zeros([K_ARMS,L_SUB])\n",
    "    for i in range(K_ARMS):\n",
    "        arm_scores[i]=arms[i].scores\n",
    "            \n",
    "    max_score_id = np.unravel_index(np.argmax(arm_scores), arm_scores.shape)\n",
    "    return max_score_id"
   ]
  },
  {
   "cell_type": "markdown",
   "id": "9093ede3",
   "metadata": {},
   "source": [
    "## Stopping Rule"
   ]
  },
  {
   "cell_type": "markdown",
   "id": "64e85512",
   "metadata": {},
   "source": [
    "We also consider Chernoff's Generalized Likelihood Ratio statistic:\n",
    "\\begin{equation}\n",
    "Z(t)=\\frac{1}{2\\sigma^2}\\inf_{{\\lambda}\\in \\text{Alt}({\\mu})}\\sum_{k\\in[K]}\\sum_{l\\in[L]}N_{k,l}(t)\\left(\\hat\\mu_{k,l}(t)-\\lambda_{k,l}\\right)^2.\n",
    "\\end{equation}\n",
    "We stop the algorithm when $Z(t)>\\beta(t,\\delta)$, where $\\beta(t,\\delta)=\\log((1+\\log t)/\\delta)$."
   ]
  },
  {
   "cell_type": "markdown",
   "id": "977e5563",
   "metadata": {},
   "source": [
    "To calculate $Z(t)$, a similar approach of calculating $\\lambda$ for T-a-SCs is implemented. Note that $Z(t)$ can be viewed as similarly a function of $w$ as $f(\\{w_{kl}\\}_{k\\in[K],~l\\in[L]})$, where $w$ is now the empirical weights corresponding to the number of samples at arm $k$ and subgroup $l$."
   ]
  },
  {
   "cell_type": "code",
   "execution_count": 15,
   "id": "be0a6f19",
   "metadata": {},
   "outputs": [],
   "source": [
    "def stopRule(arms, t, delta):\n",
    "    \"\"\"given current estimations, number of draws and iteration step, decide whether to stop\"\"\"\n",
    "    # threshold value\n",
    "    threshold = np.log((np.log(t)+1)/delta)\n",
    "    \n",
    "    # find the current best feasible arm\n",
    "    best_id = findBestFeas(arms)\n",
    "    \n",
    "    # case1: all arms infeasible\n",
    "    if(best_id==-1):\n",
    "        min_val = float('inf')\n",
    "        for i in range(K_ARMS):\n",
    "            neg_means = np.clip(arms[i].est_means,a_min=None,a_max=0)\n",
    "            f_val = np.dot(neg_means**2,arms[i].n_draws)/(2*NOISE**2)\n",
    "            if f_val < min_val:\n",
    "                min_val= f_val\n",
    "        \n",
    "        if(min_val>threshold):\n",
    "            return -2\n",
    "        else:\n",
    "            return -1\n",
    "        \n",
    "    # case2: one feasible arm\n",
    "    else:\n",
    "        # calculate the general likelihood ratio test statistics\n",
    "        # first calculate the value of f_1\n",
    "        ### we use min_val and min_id to record the index of the minimum function value among {f_1...f_k}\n",
    "        min_val, sub_1_id = Infeas_sub(arms[best_id].est_means, arms[best_id].n_draws)\n",
    "        min_id = best_id\n",
    "    \n",
    "        # next calculate the values of f_k w.r.t. current weights\n",
    "        for i in range(K_ARMS):\n",
    "            if(i!=best_id):\n",
    "                means_1 = arms[best_id].est_means\n",
    "                means_k = arms[i].est_means\n",
    "                weights_1 = arms[best_id].n_draws\n",
    "                weights_k = arms[i].n_draws\n",
    "                start_1 = arms[best_id].stop_lams\n",
    "                start_k = arms[i].stop_lams\n",
    "                f_val, arm1_lam, arms[i].stop_lams = f_k(means_1, means_k, weights_1, weights_k, start_1, start_k)\n",
    "    \n",
    "                if(f_val<min_val):\n",
    "                    min_val = f_val\n",
    "                    min_id = i\n",
    "                    arms[best_id].stop_lams = arm1_lam\n",
    "            \n",
    "        if(min_val>threshold):\n",
    "            return best_id\n",
    "        else:\n",
    "            return -1"
   ]
  },
  {
   "cell_type": "markdown",
   "id": "e5ac2297",
   "metadata": {},
   "source": [
    "## Main Iteration"
   ]
  },
  {
   "cell_type": "code",
   "execution_count": 16,
   "id": "cf02476a",
   "metadata": {},
   "outputs": [],
   "source": [
    "def get_top_two_array(arr):\n",
    "    # Get the indexes of the two largest values\n",
    "    idx = np.argpartition(arr, -2)[-2:]\n",
    "    \n",
    "    # Sort the indexes in descending order\n",
    "    idx_sorted = idx[np.argsort(arr[idx])][::-1]\n",
    "    \n",
    "    return idx_sorted[0], idx_sorted[1]"
   ]
  },
  {
   "cell_type": "code",
   "execution_count": 17,
   "id": "ac1b4457",
   "metadata": {},
   "outputs": [],
   "source": [
    "def get_top_two_class(arms):\n",
    "    sorted_indexes = sorted(enumerate(arms), key=lambda x: x[1].arm_val, reverse=True)\n",
    "    return sorted_indexes[0][0], sorted_indexes[1][0]  "
   ]
  },
  {
   "cell_type": "markdown",
   "id": "a76ee491",
   "metadata": {},
   "source": [
    "### Initialization of arms"
   ]
  },
  {
   "cell_type": "code",
   "execution_count": 18,
   "id": "6363b39f",
   "metadata": {},
   "outputs": [],
   "source": [
    "Initial_Draws = 5\n",
    "\n",
    "def Initialize(strategy):\n",
    "    arms=[]\n",
    "    for i in range(K_ARMS):\n",
    "        est_means = np.zeros(L_SUB)\n",
    "        n_draws = np.ones(L_SUB)*Initial_Draws\n",
    "        for j in range(L_SUB):\n",
    "            s = 0\n",
    "            for t in range(Initial_Draws):\n",
    "                s = s+Simulate(i,j)\n",
    "            s = s/Initial_Draws\n",
    "            est_means[j] = s\n",
    "        if (strategy==\"Uniform\"):\n",
    "            arm_i = ArmInfo(est_means,n_draws)\n",
    "        elif(strategy== \"TaS\"):\n",
    "            arm_i = ArmTaS(est_means,n_draws)\n",
    "        elif(strategy==\"TaSCS\"):\n",
    "            arm_i = ArmTaSCS(est_means,n_draws)\n",
    "        else:\n",
    "            print(\"strategy not exist!\")\n",
    "            return 0\n",
    "        arms.append(arm_i)\n",
    "    return arms"
   ]
  },
  {
   "cell_type": "markdown",
   "id": "516bb49c",
   "metadata": {},
   "source": [
    "### Main experiment"
   ]
  },
  {
   "cell_type": "code",
   "execution_count": 19,
   "id": "9b859130",
   "metadata": {},
   "outputs": [],
   "source": [
    "def exp_main(delta, maxit,strategy):\n",
    "    arms = Initialize(strategy)\n",
    "    for t in range(K_ARMS*L_SUB*Initial_Draws + 1, K_ARMS*L_SUB*Initial_Draws + maxit):\n",
    "    \n",
    "        if strategy==\"TaSCS\":\n",
    "            # Update the weights\n",
    "            getWeightsTaSCS(arms, proj=True, threshold=1/(2*np.sqrt(K_ARMS*L_SUB**2+t)))\n",
    "        \n",
    "            # Simulate and update observation\n",
    "            sample_id = C_tracking_TaSCS(arms)\n",
    "            new_obs = Simulate(sample_id[0],sample_id[1])\n",
    "            arms[sample_id[0]].updateEst(sample_id[1],new_obs)\n",
    "            \n",
    "        elif strategy ==\"TaS\":\n",
    "            # Update the weights\n",
    "            best_id, second_id = get_top_two_class(arms)\n",
    "            getWeightTaS(arms, best_id, second_id, proj=True, threshold=1/(2*np.sqrt(K_ARMS**2+t)))\n",
    "            \n",
    "            # Simulate and update observation\n",
    "            sample_id = C_tracking_TaS(arms)\n",
    "            new_obs = Simulate_rand(sample_id)\n",
    "            arms[sample_id].updateEst(new_obs[0],new_obs[1])\n",
    "            \n",
    "        elif strategy ==\"Uniform\":\n",
    "            # Simulate and update observation\n",
    "            new_obs = Simulate_completely_rand()\n",
    "            arms[new_obs[0]].updateEst(new_obs[1],new_obs[2])     \n",
    "    \n",
    "        # Check stopping rule\n",
    "        arm_id = stopRule(arms,t,delta)\n",
    "        if arm_id==-2:\n",
    "            #print(\"all infeasible\")\n",
    "            break\n",
    "        if arm_id!=-1:\n",
    "            #print(\"the best feasible arm is\",arm_id)\n",
    "            break\n",
    "    return t,arms,arm_id"
   ]
  },
  {
   "cell_type": "markdown",
   "id": "f75bd119",
   "metadata": {},
   "source": [
    "### Results"
   ]
  },
  {
   "cell_type": "code",
   "execution_count": 20,
   "id": "c97e295b",
   "metadata": {},
   "outputs": [
    {
     "name": "stdout",
     "output_type": "stream",
     "text": [
      "Restricted license - for non-production use only - expires 2024-10-28\n"
     ]
    }
   ],
   "source": [
    "import progressbar\n",
    "\n",
    "COPIES = 300\n",
    "times = np.zeros([COPIES])\n",
    "draw_props = np.zeros([COPIES,K_ARMS,L_SUB])\n",
    "arm_ids = np.zeros([COPIES])\n",
    "for c in progressbar.progressbar(range(COPIES)):\n",
    "    t,arms,arm_id = exp_main(0.1,100000,\"TaS\")\n",
    "    times[c] = t\n",
    "    arm_ids[c]=arm_id\n",
    "    s = 0\n",
    "    for i in range(K_ARMS):\n",
    "        s = s+np.sum(arms[i].n_draws)\n",
    "    for i in range(K_ARMS):\n",
    "        draw_props[c,i] = arms[i].n_draws/s           "
   ]
  },
  {
   "cell_type": "code",
   "execution_count": 24,
   "id": "f90532ca",
   "metadata": {},
   "outputs": [
    {
     "ename": "ModuleNotFoundError",
     "evalue": "No module named 'progressbar'",
     "output_type": "error",
     "traceback": [
      "\u001b[1;31m---------------------------------------------------------------------------\u001b[0m",
      "\u001b[1;31mModuleNotFoundError\u001b[0m                       Traceback (most recent call last)",
      "Input \u001b[1;32mIn [24]\u001b[0m, in \u001b[0;36m<cell line: 1>\u001b[1;34m()\u001b[0m\n\u001b[1;32m----> 1\u001b[0m \u001b[38;5;28;01mimport\u001b[39;00m \u001b[38;5;21;01mprogressbar\u001b[39;00m\n",
      "\u001b[1;31mModuleNotFoundError\u001b[0m: No module named 'progressbar'"
     ]
    }
   ],
   "source": [
    "from tqdm import tqdm\n"
   ]
  },
  {
   "cell_type": "markdown",
   "id": "41e48b7d",
   "metadata": {},
   "source": [
    "#### The average iteration time"
   ]
  },
  {
   "cell_type": "code",
   "execution_count": 21,
   "id": "b6993816",
   "metadata": {},
   "outputs": [
    {
     "data": {
      "text/plain": [
       "1703.18"
      ]
     },
     "execution_count": 21,
     "metadata": {},
     "output_type": "execute_result"
    }
   ],
   "source": [
    "np.mean(times)"
   ]
  },
  {
   "cell_type": "markdown",
   "id": "5c283e87",
   "metadata": {},
   "source": [
    "#### Probability of wrong selection"
   ]
  },
  {
   "cell_type": "code",
   "execution_count": 22,
   "id": "1b62b39c",
   "metadata": {},
   "outputs": [
    {
     "data": {
      "text/plain": [
       "0.99"
      ]
     },
     "execution_count": 22,
     "metadata": {},
     "output_type": "execute_result"
    }
   ],
   "source": [
    "True_best = 0\n",
    "false_selection = np.count_nonzero(arm_ids!=True_best)\n",
    "1-false_selection/COPIES"
   ]
  },
  {
   "cell_type": "markdown",
   "id": "f9120627",
   "metadata": {},
   "source": [
    "#### Average weight assignment"
   ]
  },
  {
   "cell_type": "code",
   "execution_count": 23,
   "id": "3f65c86d",
   "metadata": {},
   "outputs": [
    {
     "data": {
      "image/png": "[encoded data removed]",
      "text/plain": [
       "<Figure size 640x480 with 1 Axes>"
      ]
     },
     "metadata": {},
     "output_type": "display_data"
    }
   ],
   "source": [
    "import matplotlib.pyplot as plt\n",
    "\n",
    "mean_props = np.mean(draw_props,axis=0)\n",
    "\n",
    "# Create some sample data\n",
    "labels = ['arm1','arm2','arm3']\n",
    "w0 = mean_props[:,0]\n",
    "w1 = mean_props[:,1]\n",
    "w2 = mean_props[:,2]\n",
    "\n",
    "\n",
    "# Plot the bars\n",
    "plt.bar(labels, w0, label='subgroup 1',alpha=0.7, width=0.6)\n",
    "plt.bar(labels, w1, bottom=w0, label='subgroup 2', alpha=0.7, width=0.6)\n",
    "plt.bar(labels, w2, bottom=w0+w1, label='subgroup 3', alpha=0.7, width=0.6)\n",
    "\n",
    "# Add a legend and labels\n",
    "plt.legend()\n",
    "plt.xlabel('Arm')\n",
    "plt.ylabel('Proportion')\n",
    "\n",
    "# Show the plot\n",
    "plt.show()"
   ]
  },
  {
   "cell_type": "code",
   "execution_count": null,
   "id": "f0d09482",
   "metadata": {},
   "outputs": [],
   "source": []
  }
 ],
 "metadata": {
  "kernelspec": {
   "display_name": "Python 3 (ipykernel)",
   "language": "python",
   "name": "python3"
  },
  "language_info": {
   "codemirror_mode": {
    "name": "ipython",
    "version": 3
   },
   "file_extension": ".py",
   "mimetype": "text/x-python",
   "name": "python",
   "nbconvert_exporter": "python",
   "pygments_lexer": "ipython3",
   "version": "3.9.12"
  }
 },
 "nbformat": 4,
 "nbformat_minor": 5
}
